{
  "nbformat": 4,
  "nbformat_minor": 0,
  "metadata": {
    "colab": {
      "name": "Day 2 session 1 Exercises.ipynb",
      "provenance": [],
      "collapsed_sections": [],
      "authorship_tag": "ABX9TyPyqGbkQQm+hX9aYbqtSVjS",
      "include_colab_link": true
    },
    "kernelspec": {
      "name": "python3",
      "display_name": "Python 3"
    }
  },
  "cells": [
    {
      "cell_type": "markdown",
      "metadata": {
        "id": "view-in-github",
        "colab_type": "text"
      },
      "source": [
        "<a href=\"https://colab.research.google.com/github/Alsten-Tauro/Applications-of-Python-Programming-in-Data-Analytics-and-Machine-Learning/blob/master/Day_2_session_1_Exercises.ipynb\" target=\"_parent\"><img src=\"https://colab.research.google.com/assets/colab-badge.svg\" alt=\"Open In Colab\"/></a>"
      ]
    },
    {
      "cell_type": "markdown",
      "metadata": {
        "id": "nlAMclTF_bUI",
        "colab_type": "text"
      },
      "source": [
        "#List Exercises\n"
      ]
    },
    {
      "cell_type": "markdown",
      "metadata": {
        "id": "aXP9E1O-IZjV",
        "colab_type": "text"
      },
      "source": [
        "#1.Print multiples of 3 upto 200 using a list\n"
      ]
    },
    {
      "cell_type": "code",
      "metadata": {
        "id": "W3kbiFzB_hLt",
        "colab_type": "code",
        "outputId": "ce57c5d6-d6ca-41d5-c4e3-2d8b0072bd3e",
        "colab": {
          "base_uri": "https://localhost:8080/",
          "height": 54
        }
      },
      "source": [
        "lower_range=3\n",
        "upper_range=200\n",
        "a=[x for x in range(lower_range,upper_range+1) if x%3==0]\n",
        "print(a)"
      ],
      "execution_count": 0,
      "outputs": [
        {
          "output_type": "stream",
          "text": [
            "[3, 6, 9, 12, 15, 18, 21, 24, 27, 30, 33, 36, 39, 42, 45, 48, 51, 54, 57, 60, 63, 66, 69, 72, 75, 78, 81, 84, 87, 90, 93, 96, 99, 102, 105, 108, 111, 114, 117, 120, 123, 126, 129, 132, 135, 138, 141, 144, 147, 150, 153, 156, 159, 162, 165, 168, 171, 174, 177, 180, 183, 186, 189, 192, 195, 198]\n"
          ],
          "name": "stdout"
        }
      ]
    },
    {
      "cell_type": "markdown",
      "metadata": {
        "id": "4_ZE09e5AE7_",
        "colab_type": "text"
      },
      "source": [
        "#2.Print the nos only divisible by 5 and 7 between 1000 and 2000 using a list( both inclusive)"
      ]
    },
    {
      "cell_type": "code",
      "metadata": {
        "id": "PmJ5GiXbANq1",
        "colab_type": "code",
        "outputId": "34c59323-bbef-434a-f1db-117ebe31e44b",
        "colab": {
          "base_uri": "https://localhost:8080/",
          "height": 54
        }
      },
      "source": [
        "l_range=1000\n",
        "u_range=2000\n",
        "a=[x for x in range(l_range,u_range+1) if (x%5==0 and x%7==0)]\n",
        "print(a)"
      ],
      "execution_count": 0,
      "outputs": [
        {
          "output_type": "stream",
          "text": [
            "[1015, 1050, 1085, 1120, 1155, 1190, 1225, 1260, 1295, 1330, 1365, 1400, 1435, 1470, 1505, 1540, 1575, 1610, 1645, 1680, 1715, 1750, 1785, 1820, 1855, 1890, 1925, 1960, 1995]\n"
          ],
          "name": "stdout"
        }
      ]
    },
    {
      "cell_type": "markdown",
      "metadata": {
        "id": "-GzM0LP_A-M3",
        "colab_type": "text"
      },
      "source": [
        "#3.Add the n number of names in a list and print them alphabetically and reverse alphabetically."
      ]
    },
    {
      "cell_type": "code",
      "metadata": {
        "id": "CIoVeyahBGDW",
        "colab_type": "code",
        "outputId": "526c8aec-0fd7-41e6-95e1-461b09ebd6c3",
        "colab": {
          "base_uri": "https://localhost:8080/",
          "height": 136
        }
      },
      "source": [
        "a=[]\n",
        "n=int(input(\"Enter the value of n: \"))\n",
        "for i in range(n):\n",
        "  name=input(\"Enter the name:\")\n",
        "  a.append(name)\n",
        "a.sort()\n",
        "print(a)\n",
        "a.sort(reverse=True)\n",
        "print(a)"
      ],
      "execution_count": 0,
      "outputs": [
        {
          "output_type": "stream",
          "text": [
            "Enter the value of n: 4\n",
            "Enter the name:Sachin\n",
            "Enter the name:Alsten\n",
            "Enter the name:Rohit\n",
            "Enter the name:Zebra\n",
            "['Alsten', 'Rohit', 'Sachin', 'Zebra']\n",
            "['Zebra', 'Sachin', 'Rohit', 'Alsten']\n"
          ],
          "name": "stdout"
        }
      ]
    },
    {
      "cell_type": "markdown",
      "metadata": {
        "id": "pKnOvmxaCNdM",
        "colab_type": "text"
      },
      "source": [
        "#4.Print perfect squares and divisible by 5 between 500 and 1000( (both inclusive) using list"
      ]
    },
    {
      "cell_type": "code",
      "metadata": {
        "id": "0gdgz-Q6CUXA",
        "colab_type": "code",
        "outputId": "f53ada1b-beb0-4829-de77-f3dd0be92a58",
        "colab": {
          "base_uri": "https://localhost:8080/",
          "height": 34
        }
      },
      "source": [
        "import math\n",
        "def perfect(n):\n",
        "  root=math.sqrt(n)\n",
        "  if int(root+0.5)**2==n:\n",
        "    return True\n",
        "  else:\n",
        "    return False\n",
        "l_range=500\n",
        "u_range=1000\n",
        "a=[x for x in range(l_range,u_range+1) if(perfect(x) and x%5==0)]\n",
        "print(a)"
      ],
      "execution_count": 0,
      "outputs": [
        {
          "output_type": "stream",
          "text": [
            "[625, 900]\n"
          ],
          "name": "stdout"
        }
      ]
    },
    {
      "cell_type": "markdown",
      "metadata": {
        "id": "4S6WuYYeEMiF",
        "colab_type": "text"
      },
      "source": [
        "#Tuple exercises"
      ]
    },
    {
      "cell_type": "markdown",
      "metadata": {
        "id": "hRKx1a36EPzy",
        "colab_type": "text"
      },
      "source": [
        "#1.Get a string and store word by word as elements in a tuple and find the largest word in the tuple and print it"
      ]
    },
    {
      "cell_type": "code",
      "metadata": {
        "id": "zU2CKVlUEWsk",
        "colab_type": "code",
        "outputId": "4b1b6cd6-1847-4d5b-f002-03310d69be0a",
        "colab": {
          "base_uri": "https://localhost:8080/",
          "height": 51
        }
      },
      "source": [
        "a=[]\n",
        "string=input(\"Enter the string: \")\n",
        "for word in string.split():\n",
        "  a.append((len(word),word))\n",
        "a.sort(reverse=True)\n",
        "res=list()\n",
        "for length,word in a:\n",
        "  res.append(word)\n",
        "print(\"The largest word is: \",res[0])"
      ],
      "execution_count": 0,
      "outputs": [
        {
          "output_type": "stream",
          "text": [
            "Enter the string: Education for all\n",
            "The largest word is:  Education\n"
          ],
          "name": "stdout"
        }
      ]
    },
    {
      "cell_type": "markdown",
      "metadata": {
        "id": "O1MtfLqcFRsM",
        "colab_type": "text"
      },
      "source": [
        "#2.Get rollno and marks (Rollno, mark) as list of tuples for n number of students through keyboard and print them in marks descending order with rollno."
      ]
    },
    {
      "cell_type": "code",
      "metadata": {
        "id": "F5RLIFS2FXKA",
        "colab_type": "code",
        "outputId": "450d9936-c52f-456a-b827-29ee3a0a64c6",
        "colab": {
          "base_uri": "https://localhost:8080/",
          "height": 221
        }
      },
      "source": [
        "from operator import itemgetter\n",
        "a=[]\n",
        "n=int(input(\"Enter the value of n:\"))\n",
        "for i in range(n):\n",
        "  rollno=int(input(\"Enter rollno:\"))\n",
        "  marks=int(input(\"Enter marks:\"))\n",
        "  a.append((rollno,marks))\n",
        "  b=sorted(a,key=itemgetter(1),reverse=True)\n",
        "print(b)"
      ],
      "execution_count": 0,
      "outputs": [
        {
          "output_type": "stream",
          "text": [
            "Enter the value of n:5\n",
            "Enter rollno:7\n",
            "Enter marks:99\n",
            "Enter rollno:4\n",
            "Enter marks:95\n",
            "Enter rollno:6\n",
            "Enter marks:100\n",
            "Enter rollno:3\n",
            "Enter marks:85\n",
            "Enter rollno:1\n",
            "Enter marks:96\n",
            "[(6, 100), (7, 99), (1, 96), (4, 95), (3, 85)]\n"
          ],
          "name": "stdout"
        }
      ]
    },
    {
      "cell_type": "markdown",
      "metadata": {
        "id": "0wIjlnvIG_r_",
        "colab_type": "text"
      },
      "source": [
        "#3.Get name and salary (name, salary) as list of tuples for n number of employees through keyboard and print them in name alphabetical order with salary"
      ]
    },
    {
      "cell_type": "code",
      "metadata": {
        "id": "pewjT90yItip",
        "colab_type": "code",
        "outputId": "e2aa7016-3395-4a8d-cdbf-586e5e8e32a3",
        "colab": {
          "base_uri": "https://localhost:8080/",
          "height": 187
        }
      },
      "source": [
        "from operator import itemgetter\n",
        "a=[]\n",
        "n=int(input(\"Enter the value of n:\"))\n",
        "for i in range(n):\n",
        "  name=(input(\"Enter name:\"))\n",
        "  salary=int(input(\"Enter salary:\"))\n",
        "  a.append((name,salary))\n",
        "  b=sorted(a,key=itemgetter(0))\n",
        "print(b)"
      ],
      "execution_count": 0,
      "outputs": [
        {
          "output_type": "stream",
          "text": [
            "Enter the value of n:4\n",
            "Enter name:Rohit\n",
            "Enter salary:45000\n",
            "Enter name:Alsten\n",
            "Enter salary:55000\n",
            "Enter name:Sachin\n",
            "Enter salary:90000\n",
            "Enter name:Dhanya\n",
            "Enter salary:35000\n",
            "[('Alsten', 55000), ('Dhanya', 35000), ('Rohit', 45000), ('Sachin', 90000)]\n"
          ],
          "name": "stdout"
        }
      ]
    }
  ]
}