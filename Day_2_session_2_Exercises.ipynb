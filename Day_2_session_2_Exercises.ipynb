{
  "nbformat": 4,
  "nbformat_minor": 0,
  "metadata": {
    "colab": {
      "name": "Day 2  session 2 Exercises.ipynb",
      "provenance": [],
      "collapsed_sections": [],
      "toc_visible": true,
      "authorship_tag": "ABX9TyOnqoYkObwOxRbRCZya9zMP",
      "include_colab_link": true
    },
    "kernelspec": {
      "name": "python3",
      "display_name": "Python 3"
    }
  },
  "cells": [
    {
      "cell_type": "markdown",
      "metadata": {
        "id": "view-in-github",
        "colab_type": "text"
      },
      "source": [
        "<a href=\"https://colab.research.google.com/github/Alsten-Tauro/Applications-of-Python-Programming-in-Data-Analytics-and-Machine-Learning/blob/master/Day_2_session_2_Exercises.ipynb\" target=\"_parent\"><img src=\"https://colab.research.google.com/assets/colab-badge.svg\" alt=\"Open In Colab\"/></a>"
      ]
    },
    {
      "cell_type": "markdown",
      "metadata": {
        "id": "Ealz10pTqyA5",
        "colab_type": "text"
      },
      "source": [
        "#Exercises- Tests"
      ]
    },
    {
      "cell_type": "markdown",
      "metadata": {
        "id": "MxarbJIQq2u-",
        "colab_type": "text"
      },
      "source": [
        "#1.Add rollno and marks {name:mark} for n number of students through keyboard in a dictionary and print the marks in descending order with respective name."
      ]
    },
    {
      "cell_type": "code",
      "metadata": {
        "id": "mORUZ11Rq9uC",
        "colab_type": "code",
        "outputId": "ecd7c390-eadd-4d4b-df40-30fad0bc16cf",
        "colab": {
          "base_uri": "https://localhost:8080/",
          "height": 153
        }
      },
      "source": [
        "import operator\n",
        "n=int(input(\"Enter no of students\"))\n",
        "d={}\n",
        "for i in range(1,n+1):\n",
        "    name= input(\"Enter name %d \"%(i))\n",
        "    mark=int(input(\"Enter mark %d \"%(i)))\n",
        "    d[name]=mark\n",
        "sorted_d = sorted(d.items(), key=operator.itemgetter(1),reverse=True)\n",
        "print(sorted_d)"
      ],
      "execution_count": 0,
      "outputs": [
        {
          "output_type": "stream",
          "text": [
            "Enter no of students3\n",
            "Enter name 1 alsten\n",
            "Enter mark 1 88\n",
            "Enter name 2 elston\n",
            "Enter mark 2 89\n",
            "Enter name 3 rohit\n",
            "Enter mark 3 99\n",
            "[('rohit', 99), ('elston', 89), ('alsten', 88)]\n"
          ],
          "name": "stdout"
        }
      ]
    },
    {
      "cell_type": "markdown",
      "metadata": {
        "id": "RMsZnP3RrrEf",
        "colab_type": "text"
      },
      "source": [
        "#2.Add  name and salary {name:salary} for n number of employees through keyboard in a dictionary and print them in name alphabetical order with salary\n"
      ]
    },
    {
      "cell_type": "code",
      "metadata": {
        "id": "wGKPGUWJrvry",
        "colab_type": "code",
        "outputId": "07d9a594-2bc7-47c5-9795-b98518cb5958",
        "colab": {
          "base_uri": "https://localhost:8080/",
          "height": 153
        }
      },
      "source": [
        "import operator\n",
        "n=int(input(\"Enter no of Employees\"))\n",
        "d={}\n",
        "for i in range(1,n+1):\n",
        "    name= input(\"Enter name %d \"%(i))\n",
        "    salary=int(input(\"Enter salary %d \"%(i)))\n",
        "    d[name]=salary\n",
        "sorted_d = sorted(d.items(), key=operator.itemgetter(0))\n",
        "print(sorted_d)"
      ],
      "execution_count": 0,
      "outputs": [
        {
          "output_type": "stream",
          "text": [
            "Enter no of Employees3\n",
            "Enter name 1 Ram\n",
            "Enter salary 1 50000\n",
            "Enter name 2 Alsten\n",
            "Enter salary 2 60000\n",
            "Enter name 3 Elston\n",
            "Enter salary 3 60000\n",
            "[('Alsten', 60000), ('Elston', 60000), ('Ram', 50000)]\n"
          ],
          "name": "stdout"
        }
      ]
    },
    {
      "cell_type": "markdown",
      "metadata": {
        "id": "DA2yJ5m7siuu",
        "colab_type": "text"
      },
      "source": [
        "#3.Add  name and salary {name:salary} for n number of employees through keyboard in a dictionary and print them in salary  ascending order and  sum, max, min and average of the salaries"
      ]
    },
    {
      "cell_type": "code",
      "metadata": {
        "id": "GT6HINjfsmnd",
        "colab_type": "code",
        "outputId": "9d917ee6-4ff5-49f0-f1ab-473d28e92a93",
        "colab": {
          "base_uri": "https://localhost:8080/",
          "height": 221
        }
      },
      "source": [
        "import operator \n",
        "n=int(input(\"Enter no of Employees\"))\n",
        "d={}\n",
        "for i in range(1,n+1):\n",
        "    name= input(\"Enter name %d \"%(i))\n",
        "    salary=int(input(\"Enter salary %d \"%(i)))\n",
        "    d[name]=salary\n",
        "sorted_d = sorted(d.items(), key=operator.itemgetter(0))\n",
        "print(sorted_d)\n",
        "print(\"Sum of salaries \",sum(d.values()))\n",
        "print(\"Max of salaries \",max(d.values()))\n",
        "print(\"Min of salaries \",min(d.values()))\n",
        "print(\"Avg of salaries \",sum(d.values())/len(d.values()))"
      ],
      "execution_count": 0,
      "outputs": [
        {
          "output_type": "stream",
          "text": [
            "Enter no of Employees3\n",
            "Enter name 1 Alsten\n",
            "Enter salary 1 50000\n",
            "Enter name 2 Dhanya\n",
            "Enter salary 2 60000\n",
            "Enter name 3 Elston\n",
            "Enter salary 3 90000\n",
            "[('Alsten', 50000), ('Dhanya', 60000), ('Elston', 90000)]\n",
            "Sum of salaries  200000\n",
            "Max of salaries  90000\n",
            "Min of salaries  50000\n",
            "Avg of salaries  66666.66666666667\n"
          ],
          "name": "stdout"
        }
      ]
    },
    {
      "cell_type": "markdown",
      "metadata": {
        "id": "QYBFiV-us4zc",
        "colab_type": "text"
      },
      "source": [
        "#4.Add name and salary {name:salary} for n number of employees through keyboard in a dictionary and print only the employees whose salary is greater than 2000 but less than 4000\n"
      ]
    },
    {
      "cell_type": "code",
      "metadata": {
        "id": "yIUAhdR7s_5P",
        "colab_type": "code",
        "outputId": "cdc9ee7d-82bd-4797-f253-56425e308331",
        "colab": {
          "base_uri": "https://localhost:8080/",
          "height": 119
        }
      },
      "source": [
        "import operator \n",
        "n=int(input(\"Enter no of Employees\"))\n",
        "d={}\n",
        "for i in range(1,n+1):\n",
        "    name= input(\"Enter name %d \"%(i))\n",
        "    salary=int(input(\"Enter salary %d \"%(i)))\n",
        "    d[name]=salary\n",
        "for (k,v) in d.items():\n",
        "  if(v>2000 and v<4000):\n",
        "    print(k,\":\",v)"
      ],
      "execution_count": 0,
      "outputs": [
        {
          "output_type": "stream",
          "text": [
            "Enter no of Employees2\n",
            "Enter name 1 alsten\n",
            "Enter salary 1 3500\n",
            "Enter name 2 elston\n",
            "Enter salary 2 6000\n",
            "alsten : 3500\n"
          ],
          "name": "stdout"
        }
      ]
    },
    {
      "cell_type": "markdown",
      "metadata": {
        "id": "Ik0zB9y_t_Xx",
        "colab_type": "text"
      },
      "source": [
        "#5.Python program to convert a 3 digit number  into words\n"
      ]
    },
    {
      "cell_type": "code",
      "metadata": {
        "id": "Tfc8kTm4uDNl",
        "colab_type": "code",
        "outputId": "17b31cce-8ddd-44bb-e360-c57fb9ad6d86",
        "colab": {
          "base_uri": "https://localhost:8080/",
          "height": 51
        }
      },
      "source": [
        "d={0:'',1:'one',2:'two',3:'three',4:'four',5:'five',6:'six',7:'seven',8:'eight',9:'nine',10:'ten',11:'eleven',12:'twelve',13:'thirteen',14:'fouteen',15:'fifteen',16:'sixteen',17:'seventeen',18:'eighteen',19:'nineteen',20:'twenty',30:'thirty',40:'forty',50:'fifty',60:'sixty',70:'seventy',80:'eighty',90:'ninety',100:'hundred'}\n",
        "num=int(input('Enter the 3 digit number'))\n",
        "if num<=20:\n",
        "    print(d[num])\n",
        "elif num>20 and num<100:\n",
        "    if num%10 ==0:\n",
        "          print(d[num])\n",
        "    else:\n",
        "          print(d[num//10*10]+\" \"+d[num%10])\n",
        "elif num>=100 and num<1000:\n",
        "    if num%100==0:\n",
        "          print(d[num//100]+\" \"+d[100])\n",
        "    else:\n",
        "          print(d[num//100]+\" \"+d[100]+\" \"+d[num%100//10*10]+\" \"+d[num%10])"
      ],
      "execution_count": 0,
      "outputs": [
        {
          "output_type": "stream",
          "text": [
            "Enter the 3 digit number125\n",
            "one hundred twenty five\n"
          ],
          "name": "stdout"
        }
      ]
    },
    {
      "cell_type": "markdown",
      "metadata": {
        "id": "8zkAkq42uRQ5",
        "colab_type": "text"
      },
      "source": [
        "#Files Exercises"
      ]
    },
    {
      "cell_type": "markdown",
      "metadata": {
        "id": "wTwxe-f_uS_o",
        "colab_type": "text"
      },
      "source": [
        "#1.Python Program to count the total number of charaters (except blank space) in a text file"
      ]
    },
    {
      "cell_type": "code",
      "metadata": {
        "id": "eFB_KuL4udvs",
        "colab_type": "code",
        "outputId": "12135471-6d65-4c93-aabf-81452bacd0f6",
        "colab": {
          "base_uri": "https://localhost:8080/",
          "height": 68
        }
      },
      "source": [
        "fname = input(\"Enter file name: \")\n",
        "char_words = 0\n",
        "with open(fname, 'r') as f:\n",
        "    for line in f:\n",
        "        words = line.split()\n",
        "        for char in words:\n",
        "          if(len(char)>1):\n",
        "            char_words += len(char)\n",
        "print(\"Number of characters: \")\n",
        "print(char_words)"
      ],
      "execution_count": 6,
      "outputs": [
        {
          "output_type": "stream",
          "text": [
            "Enter file name: sample.txt\n",
            "Number of characters: \n",
            "61\n"
          ],
          "name": "stdout"
        }
      ]
    },
    {
      "cell_type": "markdown",
      "metadata": {
        "id": "pTrkhmwZvOAx",
        "colab_type": "text"
      },
      "source": [
        "#2.Python Program to print all the numbers present in a text file with its total number of occurrence."
      ]
    },
    {
      "cell_type": "code",
      "metadata": {
        "id": "FRJU9tpVvSmn",
        "colab_type": "code",
        "colab": {
          "base_uri": "https://localhost:8080/",
          "height": 51
        },
        "outputId": "85d141a7-9189-4b35-97d5-3af5d9487302"
      },
      "source": [
        "fname = input(\"Enter file name: \")\n",
        "text = open(fname, \"r\") \n",
        "  \n",
        "num=[0,1,2,3,4,5,6,7,8,9]\n",
        "d = dict() \n",
        "\n",
        "\n",
        "for line in text: \n",
        "    line = line.strip() \n",
        "    line = line.lower() \n",
        "    words = line.split(\" \") \n",
        "    for word in words: \n",
        "        for dig in word:\n",
        "          #print(digit)\n",
        "          if(dig.isdigit()):\n",
        "            #print(dig)\n",
        "            if (dig in d): \n",
        "              #print(dig)\n",
        "              d[dig] = d[dig] + 1\n",
        "            else:\n",
        "              d[dig] = 1\n",
        "  \n",
        "for key in list(d.keys()): \n",
        "    print(key, \":\", d[key])"
      ],
      "execution_count": 7,
      "outputs": [
        {
          "output_type": "stream",
          "text": [
            "Enter file name: sample.txt\n",
            "5 : 1\n"
          ],
          "name": "stdout"
        }
      ]
    },
    {
      "cell_type": "markdown",
      "metadata": {
        "id": "h_I9v5QUvcsw",
        "colab_type": "text"
      },
      "source": [
        "#3.Python Program to append the contents of one file to another file by getting the both file names through keyboard "
      ]
    },
    {
      "cell_type": "code",
      "metadata": {
        "id": "SuY4VYVavguj",
        "colab_type": "code",
        "colab": {
          "base_uri": "https://localhost:8080/",
          "height": 51
        },
        "outputId": "859f8acb-28da-4d03-d1e4-7d7decc2621b"
      },
      "source": [
        "source=input(\"Enter source file \")\n",
        "dest=input(\"Enter destination file\")\n",
        "with open(source) as f:\n",
        "    with open(dest, \"a\") as f1:\n",
        "        for line in f:\n",
        "            f1.write(line)"
      ],
      "execution_count": 8,
      "outputs": [
        {
          "output_type": "stream",
          "text": [
            "Enter source file sample.txt\n",
            "Enter destination fileb.txt\n"
          ],
          "name": "stdout"
        }
      ]
    },
    {
      "cell_type": "markdown",
      "metadata": {
        "id": "vh9O9Otivp1M",
        "colab_type": "text"
      },
      "source": [
        "#4.Python Program to count the number of blank spaces in a text file."
      ]
    },
    {
      "cell_type": "code",
      "metadata": {
        "id": "n0AbhndYvuV_",
        "colab_type": "code",
        "colab": {
          "base_uri": "https://localhost:8080/",
          "height": 68
        },
        "outputId": "30de3917-c3db-4d46-f3b7-90258b5d3f87"
      },
      "source": [
        "fname = input(\"Enter file name: \")\n",
        "k = 0\n",
        " \n",
        "with open(fname, 'r') as f:\n",
        "  for line in f:\n",
        "    words = line.split()\n",
        "    for i in words:\n",
        "      for letter in i:\n",
        "        if(letter.isspace):\n",
        "          k=k+1\n",
        "print(\"Occurrences of blank spaces:\")\n",
        "print(k)"
      ],
      "execution_count": 9,
      "outputs": [
        {
          "output_type": "stream",
          "text": [
            "Enter file name: sample.txt\n",
            "Occurrences of blank spaces:\n",
            "63\n"
          ],
          "name": "stdout"
        }
      ]
    },
    {
      "cell_type": "markdown",
      "metadata": {
        "id": "1w69E2hFv0a5",
        "colab_type": "text"
      },
      "source": [
        "#5.Python Program to read a file and capitalize the first letter of every word in the file and copy the every word capitalized content  into another file and read it .\n"
      ]
    },
    {
      "cell_type": "code",
      "metadata": {
        "id": "Eg6IVrMhv36O",
        "colab_type": "code",
        "colab": {
          "base_uri": "https://localhost:8080/",
          "height": 119
        },
        "outputId": "342a4bbe-6099-4049-cd1d-f212d73c24b7"
      },
      "source": [
        "fname = input(\"Enter file name: \")\n",
        "with open(fname, 'r') as f:\n",
        "  with open(\"out.txt\", \"w\") as f1:\n",
        "    for line in f:\n",
        "        l=line.title()\n",
        "        f1.write(l)\n",
        "file2=open(\"out.txt\",'r')\n",
        "line=file2.readline()\n",
        "while(line!=\"\"):\n",
        "    print(line)\n",
        "    line=file2.readline()\n",
        "file2.close()"
      ],
      "execution_count": 10,
      "outputs": [
        {
          "output_type": "stream",
          "text": [
            "Enter file name: sample.txt\n",
            "Education For All.\n",
            "\n",
            "Travel Around The World In 5 Minutes.\n",
            "\n",
            "A World Of Wonders.\n"
          ],
          "name": "stdout"
        }
      ]
    }
  ]
}